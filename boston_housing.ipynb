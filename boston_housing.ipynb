{
 "cells": [
  {
   "cell_type": "markdown",
   "metadata": {
    "deletable": true,
    "editable": true
   },
   "source": [
    "# Machine Learning Engineer Nanodegree\n",
    "## Model Evaluation & Validation\n",
    "## Project: Predicting Boston Housing Prices\n",
    "\n",
    "Welcome to the first project of the Machine Learning Engineer Nanodegree! In this notebook, some template code has already been provided for you, and you will need to implement additional functionality to successfully complete this project. You will not need to modify the included code beyond what is requested. Sections that begin with **'Implementation'** in the header indicate that the following block of code will require additional functionality which you must provide. Instructions will be provided for each section and the specifics of the implementation are marked in the code block with a 'TODO' statement. Please be sure to read the instructions carefully!\n",
    "\n",
    "In addition to implementing code, there will be questions that you must answer which relate to the project and your implementation. Each section where you will answer a question is preceded by a **'Question X'** header. Carefully read each question and provide thorough answers in the following text boxes that begin with **'Answer:'**. Your project submission will be evaluated based on your answers to each of the questions and the implementation you provide.  \n",
    "\n",
    ">**Note:** Code and Markdown cells can be executed using the **Shift + Enter** keyboard shortcut. In addition, Markdown cells can be edited by typically double-clicking the cell to enter edit mode."
   ]
  },
  {
   "cell_type": "markdown",
   "metadata": {
    "deletable": true,
    "editable": true
   },
   "source": [
    "## Getting Started\n",
    "In this project, you will evaluate the performance and predictive power of a model that has been trained and tested on data collected from homes in suburbs of Boston, Massachusetts. A model trained on this data that is seen as a *good fit* could then be used to make certain predictions about a home — in particular, its monetary value. This model would prove to be invaluable for someone like a real estate agent who could make use of such information on a daily basis.\n",
    "\n",
    "The dataset for this project originates from the [UCI Machine Learning Repository](https://archive.ics.uci.edu/ml/datasets/Housing). The Boston housing data was collected in 1978 and each of the 506 entries represent aggregated data about 14 features for homes from various suburbs in Boston, Massachusetts. For the purposes of this project, the following preprocessing steps have been made to the dataset:\n",
    "- 16 data points have an `'MEDV'` value of 50.0. These data points likely contain **missing or censored values** and have been removed.\n",
    "- 1 data point has an `'RM'` value of 8.78. This data point can be considered an **outlier** and has been removed.\n",
    "- The features `'RM'`, `'LSTAT'`, `'PTRATIO'`, and `'MEDV'` are essential. The remaining **non-relevant features** have been excluded.\n",
    "- The feature `'MEDV'` has been **multiplicatively scaled** to account for 35 years of market inflation.\n",
    "\n",
    "Run the code cell below to load the Boston housing dataset, along with a few of the necessary Python libraries required for this project. You will know the dataset loaded successfully if the size of the dataset is reported."
   ]
  },
  {
   "cell_type": "code",
   "execution_count": 5,
   "metadata": {
    "collapsed": false,
    "deletable": true,
    "editable": true
   },
   "outputs": [
    {
     "name": "stdout",
     "output_type": "stream",
     "text": [
      "Boston housing dataset has 489 data points with 4 variables each.\n"
     ]
    }
   ],
   "source": [
    "# Import libraries necessary for this project\n",
    "import numpy as np\n",
    "import pandas as pd\n",
    "from sklearn.cross_validation import ShuffleSplit\n",
    "\n",
    "# Import supplementary visualizations code visuals.py\n",
    "import visuals as vs\n",
    "\n",
    "import warnings\n",
    "warnings.filterwarnings('ignore') #disabled DeprecationWarning messages\n",
    "\n",
    "# Pretty display for notebooks\n",
    "%matplotlib inline\n",
    "\n",
    "# Load the Boston housing dataset\n",
    "data = pd.read_csv('housing.csv')\n",
    "prices = data['MEDV'] #y\n",
    "features = data.drop('MEDV', axis = 1) #X\n",
    "    \n",
    "# Success\n",
    "print \"Boston housing dataset has {} data points with {} variables each.\".format(*data.shape)\n",
    "\n",
    "# ----------------\n",
    "# my custom analysis\n",
    "# print data.head()\n",
    "\n",
    "#print \"prices (Y)\"\n",
    "#print prices.head()\n",
    "\n",
    "#print \"features (X)\"\n",
    "#print features.head()"
   ]
  },
  {
   "cell_type": "markdown",
   "metadata": {
    "deletable": true,
    "editable": true
   },
   "source": [
    "## Data Exploration\n",
    "In this first section of this project, you will make a cursory investigation about the Boston housing data and provide your observations. Familiarizing yourself with the data through an explorative process is a fundamental practice to help you better understand and justify your results.\n",
    "\n",
    "Since the main goal of this project is to construct a working model which has the capability of predicting the value of houses, we will need to separate the dataset into **features** and the **target variable**. The **features**, `'RM'`, `'LSTAT'`, and `'PTRATIO'`, give us quantitative information about each data point. The **target variable**, `'MEDV'`, will be the variable we seek to predict. These are stored in `features` and `prices`, respectively."
   ]
  },
  {
   "cell_type": "markdown",
   "metadata": {
    "deletable": true,
    "editable": true
   },
   "source": [
    "### Implementation: Calculate Statistics\n",
    "For your very first coding implementation, you will calculate descriptive statistics about the Boston housing prices. Since `numpy` has already been imported for you, use this library to perform the necessary calculations. These statistics will be extremely important later on to analyze various prediction results from the constructed model.\n",
    "\n",
    "In the code cell below, you will need to implement the following:\n",
    "- Calculate the minimum, maximum, mean, median, and standard deviation of `'MEDV'`, which is stored in `prices`.\n",
    "  - Store each calculation in their respective variable."
   ]
  },
  {
   "cell_type": "code",
   "execution_count": 3,
   "metadata": {
    "collapsed": false,
    "deletable": true,
    "editable": true
   },
   "outputs": [
    {
     "name": "stdout",
     "output_type": "stream",
     "text": [
      "Statistics for Boston housing dataset:\n",
      "\n",
      "Minimum price: $105,000.00\n",
      "Maximum price: $1,024,800.00\n",
      "Mean price: $454,342.94\n",
      "Median price: $438,900.00\n",
      "Standard deviation of prices: $165,171.13\n"
     ]
    }
   ],
   "source": [
    "# TODO: Minimum price of the data\n",
    "minimum_price = np.min(prices)\n",
    "\n",
    "# TODO: Maximum price of the data\n",
    "maximum_price = np.max(prices)\n",
    "\n",
    "# TODO: Mean price of the data\n",
    "mean_price = np.mean(prices)\n",
    "\n",
    "# TODO: Median price of the data\n",
    "median_price = np.median(prices)\n",
    "\n",
    "# TODO: Standard deviation of prices of the data\n",
    "std_price = np.std(prices)\n",
    "\n",
    "# Show the calculated statistics\n",
    "print \"Statistics for Boston housing dataset:\\n\"\n",
    "print \"Minimum price: ${:,.2f}\".format(minimum_price)\n",
    "print \"Maximum price: ${:,.2f}\".format(maximum_price)\n",
    "print \"Mean price: ${:,.2f}\".format(mean_price)\n",
    "print \"Median price: ${:,.2f}\".format(median_price)\n",
    "print \"Standard deviation of prices: ${:,.2f}\".format(std_price)\n"
   ]
  },
  {
   "cell_type": "markdown",
   "metadata": {
    "deletable": true,
    "editable": true
   },
   "source": [
    "### Question 1 - Feature Observation\n",
    "As a reminder, we are using three features from the Boston housing dataset: `'RM'`, `'LSTAT'`, and `'PTRATIO'`. For each data point (neighborhood):\n",
    "- `'RM'` is the average number of rooms among homes in the neighborhood.\n",
    "- `'LSTAT'` is the percentage of homeowners in the neighborhood considered \"lower class\" (working poor).\n",
    "- `'PTRATIO'` is the ratio of students to teachers in primary and secondary schools in the neighborhood.\n",
    "\n",
    "_Using your intuition, for each of the three features above, do you think that an increase in the value of that feature would lead to an **increase** in the value of `'MEDV'` or a **decrease** in the value of `'MEDV'`? Justify your answer for each._  \n",
    "**Hint:** Would you expect a home that has an `'RM'` value of 6 be worth more or less than a home that has an `'RM'` value of 7?"
   ]
  },
  {
   "cell_type": "markdown",
   "metadata": {
    "deletable": true,
    "editable": true
   },
   "source": [
    "**Answer: \n",
    "\n",
    "Hypothesis\n",
    "\n",
    "RM - Yes. While the number of bedrooms in the neighbourhood seems nothing to do with 'this' house, the market price of a property is likely be affected by its neighbouring house sold prices. If the houses nearby have a high numbers of rooms, then the average sold price will be higher, therefore affects its neighbours overall. \n",
    "\n",
    "LSTAT - Yes. if the buyer of a property is working poor, the property will definitely be sold less simply because they will likely have lower deposit and cannot get a high mortgage from the bank, which reduces their offer.\n",
    "\n",
    "PTRATIO - Yes. Generally lower number of pupils in a classroom means each pupil get more attention from the teacher, the private schools normaly have lower number of pupils in each class than state schools, less pupils per class should perform better and achieve higher grades. The schools with high rankings will attracts wealthy parents, therefore nearby houses are more likely sold to the wealthier families who can afford much higher prices, which pushes the prices up in the neighborhood.\n",
    "\n",
    "(To prove the above hypothesis, I have used the reviewer code, plotting each feature on price, with a line of best fit)\n",
    "\n",
    "RM - generally the price will increase with higher number of rooms\n",
    "\n",
    "LSTAT - generally the price will decrease with higher 'lower class'\n",
    "\n",
    "PTRATIO - generally the price will decrease with higher ratio of students to teachers \n",
    "\n",
    "\n",
    "**"
   ]
  },
  {
   "cell_type": "code",
   "execution_count": 4,
   "metadata": {
    "collapsed": false,
    "deletable": true,
    "editable": true
   },
   "outputs": [
    {
     "data": {
      "image/png": "[encoded data removed]",
      "text/plain": [
       "<matplotlib.figure.Figure at 0xbde9e80>"
      ]
     },
     "metadata": {},
     "output_type": "display_data"
    }
   ],
   "source": [
    "import matplotlib.pyplot as plt\n",
    "\n",
    "plt.figure(figsize=(20,5))\n",
    "    \n",
    "for i, col in enumerate(features.columns):\n",
    "    plt.subplot(1, 3, i+1)\n",
    "        \n",
    "    #scatter plots\n",
    "    plt.plot(data[col], prices, 'o') \n",
    "        \n",
    "    # plot a line of best fit y=mx+b\n",
    "    y = data['MEDV']\n",
    "    x = data[col]    \n",
    "    m, b = np.polyfit(x, y, 1)\n",
    "    plt.plot(x, (m*x) + b, '-', color='r') \n",
    "\n",
    "    plt.title(col)\n",
    "    plt.xlabel(col)\n",
    "    plt.ylabel('prices')"
   ]
  },
  {
   "cell_type": "markdown",
   "metadata": {
    "deletable": true,
    "editable": true
   },
   "source": [
    "----\n",
    "\n",
    "## Developing a Model\n",
    "In this second section of the project, you will develop the tools and techniques necessary for a model to make a prediction. Being able to make accurate evaluations of each model's performance through the use of these tools and techniques helps to greatly reinforce the confidence in your predictions."
   ]
  },
  {
   "cell_type": "markdown",
   "metadata": {
    "deletable": true,
    "editable": true
   },
   "source": [
    "### Implementation: Define a Performance Metric\n",
    "It is difficult to measure the quality of a given model without quantifying its performance over training and testing. This is typically done using some type of performance metric, whether it is through calculating some type of error, the goodness of fit, or some other useful measurement. For this project, you will be calculating the [*coefficient of determination*](http://stattrek.com/statistics/dictionary.aspx?definition=coefficient_of_determination), R<sup>2</sup>, to quantify your model's performance. The coefficient of determination for a model is a useful statistic in regression analysis, as it often describes how \"good\" that model is at making predictions. \n",
    "\n",
    "The values for R<sup>2</sup> range from 0 to 1, which captures the percentage of squared correlation between the predicted and actual values of the **target variable**. A model with an R<sup>2</sup> of 0 is no better than a model that always predicts the *mean* of the target variable, whereas a model with an R<sup>2</sup> of 1 perfectly predicts the target variable. Any value between 0 and 1 indicates what percentage of the target variable, using this model, can be explained by the **features**. _A model can be given a negative R<sup>2</sup> as well, which indicates that the model is **arbitrarily worse** than one that always predicts the mean of the target variable._\n",
    "\n",
    "For the `performance_metric` function in the code cell below, you will need to implement the following:\n",
    "- Use `r2_score` from `sklearn.metrics` to perform a performance calculation between `y_true` and `y_predict`.\n",
    "- Assign the performance score to the `score` variable."
   ]
  },
  {
   "cell_type": "code",
   "execution_count": 5,
   "metadata": {
    "collapsed": false,
    "deletable": true,
    "editable": true
   },
   "outputs": [],
   "source": [
    "# TODO: Import 'r2_score'\n",
    "from sklearn.metrics import r2_score\n",
    "\n",
    "def performance_metric(y_true, y_predict):\n",
    "    \"\"\" Calculates and returns the performance score between \n",
    "        true and predicted values based on the metric chosen. \"\"\"\n",
    "    \n",
    "    # TODO: Calculate the performance score between 'y_true' and 'y_predict'\n",
    "    score = r2_score(y_true, y_predict) \n",
    "    \n",
    "    # Return the score\n",
    "    return score"
   ]
  },
  {
   "cell_type": "markdown",
   "metadata": {
    "deletable": true,
    "editable": true
   },
   "source": [
    "### Question 2 - Goodness of Fit\n",
    "Assume that a dataset contains five data points and a model made the following predictions for the target variable:\n",
    "\n",
    "| True Value | Prediction |\n",
    "| :-------------: | :--------: |\n",
    "| 3.0 | 2.5 |\n",
    "| -0.5 | 0.0 |\n",
    "| 2.0 | 2.1 |\n",
    "| 7.0 | 7.8 |\n",
    "| 4.2 | 5.3 |\n",
    "*Would you consider this model to have successfully captured the variation of the target variable? Why or why not?* \n",
    "\n",
    "Run the code cell below to use the `performance_metric` function and calculate this model's coefficient of determination."
   ]
  },
  {
   "cell_type": "code",
   "execution_count": 6,
   "metadata": {
    "collapsed": false,
    "deletable": true,
    "editable": true
   },
   "outputs": [
    {
     "name": "stdout",
     "output_type": "stream",
     "text": [
      "Model has a coefficient of determination, R^2, of 0.923.\n"
     ]
    }
   ],
   "source": [
    "# Calculate the performance of this model\n",
    "score = performance_metric([3, -0.5, 2, 7, 4.2], [2.5, 0.0, 2.1, 7.8, 5.3])\n",
    "print \"Model has a coefficient of determination, R^2, of {:.3f}.\".format(score)"
   ]
  },
  {
   "cell_type": "markdown",
   "metadata": {
    "deletable": true,
    "editable": true
   },
   "source": [
    "**Answer:\n",
    "\n",
    "1=always predict the target\n",
    "\n",
    "0=always predict the mean\n",
    "\n",
    "the score 0.923 is very close to 1, so i would say it is very accurate and this model to have successfully captured the variation of the target variable.\n",
    "**"
   ]
  },
  {
   "cell_type": "markdown",
   "metadata": {
    "deletable": true,
    "editable": true
   },
   "source": [
    "### Implementation: Shuffle and Split Data\n",
    "Your next implementation requires that you take the Boston housing dataset and split the data into training and testing subsets. Typically, the data is also shuffled into a random order when creating the training and testing subsets to remove any bias in the ordering of the dataset.\n",
    "\n",
    "For the code cell below, you will need to implement the following:\n",
    "- Use `train_test_split` from `sklearn.cross_validation` to shuffle and split the `features` and `prices` data into training and testing sets.\n",
    "  - Split the data into 80% training and 20% testing.\n",
    "  - Set the `random_state` for `train_test_split` to a value of your choice. This ensures results are consistent.\n",
    "- Assign the train and testing splits to `X_train`, `X_test`, `y_train`, and `y_test`."
   ]
  },
  {
   "cell_type": "code",
   "execution_count": 7,
   "metadata": {
    "collapsed": false,
    "deletable": true,
    "editable": true
   },
   "outputs": [
    {
     "name": "stdout",
     "output_type": "stream",
     "text": [
      "Training and testing split was successful.\n"
     ]
    }
   ],
   "source": [
    "# TODO: Import 'train_test_split'\n",
    "from sklearn.cross_validation import train_test_split\n",
    "\n",
    "# TODO: Shuffle and split the data into training and testing subsets\n",
    "X_train, X_test, y_train, y_test = train_test_split(features, prices, test_size=0.2, random_state=0)\n",
    "\n",
    "# Success\n",
    "print \"Training and testing split was successful.\""
   ]
  },
  {
   "cell_type": "markdown",
   "metadata": {
    "deletable": true,
    "editable": true
   },
   "source": [
    "### Question 3 - Training and Testing\n",
    "*What is the benefit to splitting a dataset into some ratio of training and testing subsets for a learning algorithm?*  \n",
    "**Hint:** What could go wrong with not having a way to test your model?"
   ]
  },
  {
   "cell_type": "markdown",
   "metadata": {
    "deletable": true,
    "editable": true
   },
   "source": [
    "**Answer: \n",
    "\n",
    "You always want as much data as possible on training a model, so training dataset always will be much bigger than testing dataset, but validate your model using testing data is also important, a good ratio of train:test is 8:2\n",
    "\n",
    "Testing Data gives an estimate of performance on an independant dataset.\n",
    "\n",
    "Without Testing Data you cannot check how accurate your model is, or prevent overfitting of your model.\n",
    "\n",
    "**"
   ]
  },
  {
   "cell_type": "markdown",
   "metadata": {
    "deletable": true,
    "editable": true
   },
   "source": [
    "----\n",
    "\n",
    "## Analyzing Model Performance\n",
    "In this third section of the project, you'll take a look at several models' learning and testing performances on various subsets of training data. Additionally, you'll investigate one particular algorithm with an increasing `'max_depth'` parameter on the full training set to observe how model complexity affects performance. Graphing your model's performance based on varying criteria can be beneficial in the analysis process, such as visualizing behavior that may not have been apparent from the results alone."
   ]
  },
  {
   "cell_type": "markdown",
   "metadata": {
    "deletable": true,
    "editable": true
   },
   "source": [
    "### Learning Curves\n",
    "The following code cell produces four graphs for a decision tree model with different maximum depths. Each graph visualizes the learning curves of the model for both training and testing as the size of the training set is increased. Note that the shaded region of a learning curve denotes the uncertainty of that curve (measured as the standard deviation). The model is scored on both the training and testing sets using R<sup>2</sup>, the coefficient of determination.  \n",
    "\n",
    "Run the code cell below and use these graphs to answer the following question."
   ]
  },
  {
   "cell_type": "code",
   "execution_count": 8,
   "metadata": {
    "collapsed": false,
    "deletable": true,
    "editable": true,
    "scrolled": false
   },
   "outputs": [
    {
     "data": {
      "image/png": "[encoded data removed]",
      "text/plain": [
       "<matplotlib.figure.Figure at 0x6001be0>"
      ]
     },
     "metadata": {},
     "output_type": "display_data"
    }
   ],
   "source": [
    "# Produce learning curves for varying training set sizes and maximum depths\n",
    "vs.ModelLearning(features, prices)"
   ]
  },
  {
   "cell_type": "markdown",
   "metadata": {
    "deletable": true,
    "editable": true
   },
   "source": [
    "### Question 4 - Learning the Data\n",
    "*Choose one of the graphs above and state the maximum depth for the model. What happens to the score of the training curve as more training points are added? What about the testing curve? Would having more training points benefit the model?*  \n",
    "**Hint:** Are the learning curves converging to particular scores?"
   ]
  },
  {
   "cell_type": "markdown",
   "metadata": {
    "deletable": true,
    "editable": true
   },
   "source": [
    "**Answer: \n",
    "\n",
    "Graph 2 - max_depth = 3\n",
    "\n",
    "As training points increases:\n",
    "\n",
    "  the training curve is decreasing, and stop at 350 training points, at about 0.8 score\n",
    "  \n",
    "  the testing curve is increasing, and stop at 300 training points, at about 0.75 score \n",
    "  \n",
    "I have chosen this model as the training and testing score are closely matched.\n",
    "\n",
    "Have more training points do benefit the model but only up to point, for this graph, 300 training points is enough to train the model.\n",
    "\n",
    "**"
   ]
  },
  {
   "cell_type": "markdown",
   "metadata": {
    "deletable": true,
    "editable": true
   },
   "source": [
    "### Complexity Curves\n",
    "The following code cell produces a graph for a decision tree model that has been trained and validated on the training data using different maximum depths. The graph produces two complexity curves — one for training and one for validation. Similar to the **learning curves**, the shaded regions of both the complexity curves denote the uncertainty in those curves, and the model is scored on both the training and validation sets using the `performance_metric` function.  \n",
    "\n",
    "Run the code cell below and use this graph to answer the following two questions."
   ]
  },
  {
   "cell_type": "code",
   "execution_count": 9,
   "metadata": {
    "collapsed": false,
    "deletable": true,
    "editable": true
   },
   "outputs": [
    {
     "data": {
      "image/png": "[encoded data removed]",
      "text/plain": [
       "<matplotlib.figure.Figure at 0xc6cb438>"
      ]
     },
     "metadata": {},
     "output_type": "display_data"
    }
   ],
   "source": [
    "vs.ModelComplexity(X_train, y_train)"
   ]
  },
  {
   "cell_type": "markdown",
   "metadata": {
    "deletable": true,
    "editable": true
   },
   "source": [
    "### Question 5 - Bias-Variance Tradeoff\n",
    "*When the model is trained with a maximum depth of 1, does the model suffer from high bias or from high variance? How about when the model is trained with a maximum depth of 10? What visual cues in the graph justify your conclusions?*  \n",
    "**Hint:** How do you know when a model is suffering from high bias or high variance?"
   ]
  },
  {
   "cell_type": "markdown",
   "metadata": {
    "deletable": true,
    "editable": true
   },
   "source": [
    "**Answer: \n",
    "\n",
    "High Variance = Overfitting\n",
    "\n",
    "High Bias = Underfitting\n",
    "\n",
    "By looking at the graph:\n",
    "\n",
    "On Maximum Depth = 1, the training score is only about 0.6 and the validation score is about 0.45, the performance the model is underfitting (high bias).\n",
    "\n",
    "On Maximum Depth = 10, the training score is very close to 1, which means all the data points mapped perfectly to the model prediction, this is a possible overfitting (High Variance) if the validation score is not also near 1.\n",
    "This High Variance is confirmed by inspecting the validation score 0.65, the curve decreases to the lowest score after max depth of 4, this indicates the model will suffers high inaccuracy when new data is put in at max depth of 10.\n",
    "\n",
    "**"
   ]
  },
  {
   "cell_type": "markdown",
   "metadata": {
    "deletable": true,
    "editable": true
   },
   "source": [
    "### Question 6 - Best-Guess Optimal Model\n",
    "*Which maximum depth do you think results in a model that best generalizes to unseen data? What intuition lead you to this answer?*"
   ]
  },
  {
   "cell_type": "markdown",
   "metadata": {
    "deletable": true,
    "editable": true
   },
   "source": [
    "**Answer: \n",
    "\n",
    "Looking at the curve, I think maximum depth of 4 will be the best model for unseen data.\n",
    "\n",
    "In max depth 4:\n",
    "\n",
    "  the training set score is about 0.9\n",
    "  \n",
    "  the validation set score is about 0.75, and from here the score will only decrease with more depth.\n",
    "  \n",
    "  \n",
    "\n",
    "In max depth 8 or above, the score is so close to 1, obviously high variance - overfitting. \n",
    "\n",
    "**"
   ]
  },
  {
   "cell_type": "markdown",
   "metadata": {
    "deletable": true,
    "editable": true
   },
   "source": [
    "-----\n",
    "\n",
    "## Evaluating Model Performance\n",
    "In this final section of the project, you will construct a model and make a prediction on the client's feature set using an optimized model from `fit_model`."
   ]
  },
  {
   "cell_type": "markdown",
   "metadata": {
    "deletable": true,
    "editable": true
   },
   "source": [
    "### Question 7 - Grid Search\n",
    "*What is the grid search technique and how it can be applied to optimize a learning algorithm?*"
   ]
  },
  {
   "cell_type": "markdown",
   "metadata": {
    "deletable": true,
    "editable": true
   },
   "source": [
    "**Answer: \n",
    "\n",
    "Grid Search is a way to find the optimal value of parameters, through multiple combinations of parameters, fine tuning, cross validating as it trying to determine which combination of values of parameters produces the best performance of your model.\n",
    "\n",
    "The parameter names and values are set inside Grid Search constructor parameter 'param_grid', the possible hyper-parameters are 'C', 'kernal' and 'gamma'\n",
    "\n",
    "**"
   ]
  },
  {
   "cell_type": "markdown",
   "metadata": {
    "deletable": true,
    "editable": true
   },
   "source": [
    "### Question 8 - Cross-Validation\n",
    "*What is the k-fold cross-validation training technique? What benefit does this technique provide for grid search when optimizing a model?*  \n",
    "**Hint:** Much like the reasoning behind having a testing set, what could go wrong with using grid search without a cross-validated set?"
   ]
  },
  {
   "cell_type": "markdown",
   "metadata": {
    "deletable": true,
    "editable": true
   },
   "source": [
    "**Answer: \n",
    "\n",
    "Cross validation provide a way to get round the problem of the wish for maximizing the size of both training set and testing set, it shuffle the data between each fold validation, each set of split data will become training or testing set some point in the process, which gives the benefit of maximize the accuracy of the model. The downside of cross validation is it uses more computing time.\n",
    "\n",
    "This is done by spliting the original dataset into k-fold, so if k-fold is 10, then you split the dataset into 10 chunks in equal size.\n",
    "\n",
    "If the ratio of train:test is 9:1, in the 1st fold the 1st chunk will be the testing set, and the rest 9 chunks will be training set, then in the next 2nd fold make the 2nd chunk the testing set and the rest the training sets, and so on. Repeat for 10 (k-fold) times. \n",
    "\n",
    "Finally the result is the average of the performance of the testing set.\n",
    "\n",
    "K-fold cross-validation can benefit the grid search, each time (each loop) the grid search is tuning the parameters with a new set of values, run a K-fold cross-validation to get a more accurate score of the performance of the algorithm. The accurate score will be lower if not using cross validation.\n",
    "\n",
    "----------\n",
    "Reviewer questions answered\n",
    "\n",
    "Q1. Why is it beneficial to utilize all the data for training and testing purposes?\n",
    "\n",
    "In the holdout method, you have one training set and testing set.\n",
    "The evaluation is depend on which data points are picked by the training set and testing set. \n",
    "The evaluation maybe significantly different heavily depending on how the data points are divided.\n",
    "\n",
    "\n",
    "Q2. Why would we \"get a more accurate score of the performance of the algorithm\"?\n",
    "\n",
    "K-fold cross validation improves on holdout method, it divided the data points into k number of subsets, and repeat the holdout method k number of times.\n",
    "The advantage of this method is it matter less on how the data is divided between the training set and testing set, as each subset will be the test set exactly once.\n",
    "\n",
    "\n",
    "Q3. Why can't we do parameter tuning on the testing set from a simple train/test split?\n",
    "\n",
    "A simple train / test split, the evaluation will heavily depend on how the data points is divided between the training set and test set.\n",
    "Each time the holdout method is run, the accuracy score of the model prediction could differ massively.\n",
    "\n",
    "\n",
    "Q4. What would essentially happen if we were to do parameter tuning on only one data split?\n",
    "\n",
    "The train model will overfit on one fixed instance of data points of training set and testing set.\n",
    "The model prediction might not be accurate on a different combination of data points on training set and testing set, or on fresh new data.\n",
    "\n",
    "----------\n",
    "Code \n",
    "\n",
    "I have written some code to prove on holdout method score can varies a lot depend on the data points division in train and test set, please see below.\n",
    "\n",
    "In the result, the holdout scores can deviate from average as much as about 0.11.\n",
    "If the model is only using the holdout method, without the k fold cross validation, it could possible land on 0.81 or 0.60, this is a big difference. \n",
    "\n",
    "The k-fold cross validation give a score closer to the mean:\n",
    "\n",
    "cv score is 0.77\n",
    "\n",
    "mean is 0.7\n",
    "\n",
    "**"
   ]
  },
  {
   "cell_type": "code",
   "execution_count": 15,
   "metadata": {
    "collapsed": false,
    "deletable": true,
    "editable": true
   },
   "outputs": [
    {
     "name": "stdout",
     "output_type": "stream",
     "text": [
      "hold out test 1 score: 0.731263576796\n",
      "hold out test 2 score: 0.753917412\n",
      "hold out test 3 score: 0.685959860869\n",
      "hold out test 4 score: 0.686476152634\n",
      "hold out test 5 score: 0.817450936851\n",
      "hold out test 6 score: 0.625561462431\n",
      "hold out test 7 score: 0.641507870991\n",
      "hold out test 8 score: 0.777809821371\n",
      "hold out test 9 score: 0.738605887783\n",
      "hold out test 10 score: 0.603679430746\n",
      "\n",
      "\n",
      "holdout average score 0.706223241247\n",
      "holdout max score 0.817450936851\n",
      "holdout min score 0.603679430746\n"
     ]
    }
   ],
   "source": [
    "#testing holdout method, run 10 times, see the differences in scores\n",
    "\n",
    "def test_holdout():\n",
    "    import numpy as np\n",
    "    from sklearn.tree import DecisionTreeRegressor\n",
    "        \n",
    "    score_holdout_list = []\n",
    "    for i in np.arange(1, 11):\n",
    "        X_train_holdout, X_test_holdout, y_train_holdout, y_test_holdout = train_test_split(features, prices, test_size=0.2, random_state=i)\n",
    "        \n",
    "        holdout_model = DecisionTreeRegressor()\n",
    "        holdout_model.fit(X_train_holdout, y_train_holdout)\n",
    "        \n",
    "        y_predict_holdout = holdout_model.predict(X_test_holdout)\n",
    "        score_holdout = performance_metric(y_test_holdout, y_predict_holdout)\n",
    "            \n",
    "        score_holdout_list.append(score_holdout)\n",
    "        print \"hold out test {} score: {}\".format(i, score_holdout) \n",
    "        \n",
    "    print \"\\n\"\n",
    "    print \"holdout average score\", np.mean(score_holdout_list)\n",
    "    print \"holdout max score\", np.max(score_holdout_list)\n",
    "    print \"holdout min score\", np.min(score_holdout_list)\n",
    "        \n",
    "test_holdout()     "
   ]
  },
  {
   "cell_type": "code",
   "execution_count": 18,
   "metadata": {
    "collapsed": false,
    "deletable": true,
    "editable": true
   },
   "outputs": [
    {
     "name": "stdout",
     "output_type": "stream",
     "text": [
      "cv_score:  0.773133585713\n"
     ]
    }
   ],
   "source": [
    "# use fit_model method to get score on k-fold corss validation\n",
    "# Notice - fit_model() is not yet defined at this stage\n",
    "# you need to run the next code block before running this code block\n",
    "def test_cv():\n",
    "    cv_model = fit_model(X_train, y_train)    \n",
    "    y_predict = cv_model.predict(X_test) \n",
    "    cv_score = performance_metric(y_test, y_predict)        \n",
    "    print \"cv_score: \", cv_score\n",
    "    \n",
    "test_cv()"
   ]
  },
  {
   "cell_type": "markdown",
   "metadata": {
    "deletable": true,
    "editable": true
   },
   "source": [
    "### Implementation: Fitting a Model\n",
    "Your final implementation requires that you bring everything together and train a model using the **decision tree algorithm**. To ensure that you are producing an optimized model, you will train the model using the grid search technique to optimize the `'max_depth'` parameter for the decision tree. The `'max_depth'` parameter can be thought of as how many questions the decision tree algorithm is allowed to ask about the data before making a prediction. Decision trees are part of a class of algorithms called *supervised learning algorithms*.\n",
    "\n",
    "In addition, you will find your implementation is using `ShuffleSplit()` for an alternative form of cross-validation (see the `'cv_sets'` variable). While it is not the K-Fold cross-validation technique you describe in **Question 8**, this type of cross-validation technique is just as useful!. The `ShuffleSplit()` implementation below will create 10 (`'n_splits'`) shuffled sets, and for each shuffle, 20% (`'test_size'`) of the data will be used as the *validation set*. While you're working on your implementation, think about the contrasts and similarities it has to the K-fold cross-validation technique.\n",
    "\n",
    "Please note that ShuffleSplit has different parameters in scikit-learn versions 0.17 and 0.18.\n",
    "For the `fit_model` function in the code cell below, you will need to implement the following:\n",
    "- Use [`DecisionTreeRegressor`](http://scikit-learn.org/stable/modules/generated/sklearn.tree.DecisionTreeRegressor.html) from `sklearn.tree` to create a decision tree regressor object.\n",
    "  - Assign this object to the `'regressor'` variable.\n",
    "- Create a dictionary for `'max_depth'` with the values from 1 to 10, and assign this to the `'params'` variable.\n",
    "- Use [`make_scorer`](http://scikit-learn.org/stable/modules/generated/sklearn.metrics.make_scorer.html) from `sklearn.metrics` to create a scoring function object.\n",
    "  - Pass the `performance_metric` function as a parameter to the object.\n",
    "  - Assign this scoring function to the `'scoring_fnc'` variable.\n",
    "- Use [`GridSearchCV`](http://scikit-learn.org/0.17/modules/generated/sklearn.grid_search.GridSearchCV.html) from `sklearn.grid_search` to create a grid search object.\n",
    "  - Pass the variables `'regressor'`, `'params'`, `'scoring_fnc'`, and `'cv_sets'` as parameters to the object. \n",
    "  - Assign the `GridSearchCV` object to the `'grid'` variable."
   ]
  },
  {
   "cell_type": "code",
   "execution_count": 21,
   "metadata": {
    "collapsed": false,
    "deletable": true,
    "editable": true
   },
   "outputs": [],
   "source": [
    "# TODO: Import 'make_scorer', 'DecisionTreeRegressor', and 'GridSearchCV'\n",
    "from sklearn.metrics import make_scorer\n",
    "from sklearn.tree import DecisionTreeRegressor\n",
    "from sklearn.model_selection import GridSearchCV\n",
    "\n",
    "def fit_model(X, y):\n",
    "    \"\"\" Performs grid search over the 'max_depth' parameter for a \n",
    "        decision tree regressor trained on the input data [X, y]. \"\"\"\n",
    "    \n",
    "    # Create cross-validation sets from the training data\n",
    "    # original code from course\n",
    "    # cv_sets = ShuffleSplit(X.shape[0], n_splits = 10, test_size = 0.20, random_state = 0)\n",
    "    # modified n_splits -> n_iter, code from visual.py, i assume we are using older version on python 2.7\n",
    "    cv_sets = ShuffleSplit(X.shape[0], n_iter = 10, test_size = 0.2, random_state = 0)\n",
    "    \n",
    "    # TODO: Create a decision tree regressor object\n",
    "    regressor = DecisionTreeRegressor()\n",
    "\n",
    "    # TODO: Create a dictionary for the parameter 'max_depth' with a range from 1 to 10\n",
    "    params = params = {'max_depth': np.arange(1,11)}\n",
    "    \n",
    "    # TODO: Transform 'performance_metric' into a scoring function using 'make_scorer' \n",
    "    scoring_fnc = make_scorer(performance_metric)\n",
    "\n",
    "    # TODO: Create the grid search object\n",
    "    grid = GridSearchCV(estimator=regressor, param_grid=params, scoring=scoring_fnc, cv=cv_sets)\n",
    "\n",
    "    # Fit the grid search object to the data to compute the optimal model\n",
    "    grid = grid.fit(X, y)\n",
    "\n",
    "    # Return the optimal model after fitting the data\n",
    "    return grid.best_estimator_"
   ]
  },
  {
   "cell_type": "markdown",
   "metadata": {
    "deletable": true,
    "editable": true
   },
   "source": [
    "### Making Predictions\n",
    "Once a model has been trained on a given set of data, it can now be used to make predictions on new sets of input data. In the case of a *decision tree regressor*, the model has learned *what the best questions to ask about the input data are*, and can respond with a prediction for the **target variable**. You can use these predictions to gain information about data where the value of the target variable is unknown — such as data the model was not trained on."
   ]
  },
  {
   "cell_type": "markdown",
   "metadata": {
    "deletable": true,
    "editable": true
   },
   "source": [
    "### Question 9 - Optimal Model\n",
    "_What maximum depth does the optimal model have? How does this result compare to your guess in **Question 6**?_  \n",
    "\n",
    "Run the code block below to fit the decision tree regressor to the training data and produce an optimal model."
   ]
  },
  {
   "cell_type": "code",
   "execution_count": 22,
   "metadata": {
    "collapsed": false,
    "deletable": true,
    "editable": true,
    "scrolled": true
   },
   "outputs": [
    {
     "name": "stdout",
     "output_type": "stream",
     "text": [
      "Parameter 'max_depth' is 4 for the optimal model.\n"
     ]
    }
   ],
   "source": [
    "# Fit the training data to the model using grid search\n",
    "reg = fit_model(X_train, y_train)\n",
    "\n",
    "# Produce the value for 'max_depth'\n",
    "print \"Parameter 'max_depth' is {} for the optimal model.\".format(reg.get_params()['max_depth'])"
   ]
  },
  {
   "cell_type": "markdown",
   "metadata": {
    "deletable": true,
    "editable": true
   },
   "source": [
    "**Answer: \n",
    "\n",
    "The maximum depth of the optimal model is 4. \n",
    "\n",
    "In question 6, the maximum depth that i have chosen is also 4.\n",
    "\n",
    "Good news, my decision in question 6 matches the maximum depth of the optimal model.\n",
    "\n",
    "**"
   ]
  },
  {
   "cell_type": "markdown",
   "metadata": {
    "deletable": true,
    "editable": true
   },
   "source": [
    "### Question 10 - Predicting Selling Prices\n",
    "Imagine that you were a real estate agent in the Boston area looking to use this model to help price homes owned by your clients that they wish to sell. You have collected the following information from three of your clients:\n",
    "\n",
    "| Feature | Client 1 | Client 2 | Client 3 |\n",
    "| :---: | :---: | :---: | :---: |\n",
    "| Total number of rooms in home | 5 rooms | 4 rooms | 8 rooms |\n",
    "| Neighborhood poverty level (as %) | 17% | 32% | 3% |\n",
    "| Student-teacher ratio of nearby schools | 15-to-1 | 22-to-1 | 12-to-1 |\n",
    "*What price would you recommend each client sell his/her home at? Do these prices seem reasonable given the values for the respective features?*  \n",
    "**Hint:** Use the statistics you calculated in the **Data Exploration** section to help justify your response.  \n",
    "\n",
    "Run the code block below to have your optimized model make predictions for each client's home."
   ]
  },
  {
   "cell_type": "code",
   "execution_count": 24,
   "metadata": {
    "collapsed": false,
    "deletable": true,
    "editable": true
   },
   "outputs": [
    {
     "name": "stdout",
     "output_type": "stream",
     "text": [
      "Predicted selling price for Client 1's home: $391,183.33\n",
      "Predicted selling price for Client 2's home: $189,123.53\n",
      "Predicted selling price for Client 3's home: $942,666.67\n",
      "Mean number of Rooms  6.24028834356\n",
      "Median number of Rooms  6.185\n",
      "Mean low stat:  12.9396319018\n",
      "Median low stat:  11.69\n",
      "Mean pupil teacher ratio:  18.5165644172\n",
      "Median pupil teacher ratio:  19.1\n"
     ]
    }
   ],
   "source": [
    "# Produce a matrix for client data\n",
    "client_data = [[5, 17, 15], # Client 1\n",
    "               [4, 32, 22], # Client 2\n",
    "               [8, 3, 12]]  # Client 3\n",
    "\n",
    "# Show predictions\n",
    "for i, price in enumerate(reg.predict(client_data)):\n",
    "    print \"Predicted selling price for Client {}'s home: ${:,.2f}\".format(i+1, price)\n",
    "\n",
    "# extra custom stats analysis\n",
    "mean_rooms = np.mean(data['RM'])\n",
    "median_rooms = np.median(data['RM'])\n",
    "mean_lstat = np.mean(data['LSTAT'])\n",
    "median_lstat = np.median(data['LSTAT'])\n",
    "mean_ptratio = np.mean(data['PTRATIO'])\n",
    "median_ptratio = np.median(data['PTRATIO'])\n",
    "print \"Mean number of Rooms \", mean_rooms\n",
    "print \"Median number of Rooms \", median_rooms\n",
    "print \"Mean low stat: \", mean_lstat\n",
    "print \"Median low stat: \", median_lstat\n",
    "print \"Mean pupil teacher ratio: \", mean_ptratio\n",
    "print \"Median pupil teacher ratio: \", median_ptratio\n",
    "\n",
    "# ----------\n",
    "# reviewer code hint analysis\n",
    "\n",
    "# features.describe()\n",
    "\n",
    "# zip(X_train.columns, reg.feature_importances_)\n"
   ]
  },
  {
   "cell_type": "markdown",
   "metadata": {
    "deletable": true,
    "editable": true
   },
   "source": [
    "**Answer: \n",
    "\n",
    "Data Exploration Stats\n",
    "\n",
    "Minimum price: 105,000.00\n",
    "\n",
    "Maximum price: 1,024,800.00\n",
    "\n",
    "Mean price: 454,342.94\n",
    "\n",
    "Median price 438,900.00\n",
    "\n",
    "Standard deviation of prices: 165,171.13\n",
    "\n",
    "\n",
    "Anaylsis Point 1 - Looking at the clients features table, I expect the following:\n",
    "\n",
    "Client 2 have the lowest house price, as the house have the least rooms, highest neighbour poverty level and highest pupil teacher ratio in nearby school.\n",
    "Client 3 have the highest house price, as the house have the most rooms, lowest neighbour poverty level and lowest pupil teacher ratio in nearby school.\n",
    "Client 1 have the house price between the price of client 2 and client 3\n",
    "\n",
    "House Price i predict without using the model:\n",
    "client 2 < client 1 < client 3\n",
    "\n",
    "Compare this to the optimized model prediction, the prediction fitted this analysis point.\n",
    "\n",
    "\n",
    "\n",
    "Anaylsis Point 2 - From the statistics in Data Exploration, i added the average values of RM, LSTAT and PTRATIO to help me make better decision:\n",
    "\n",
    "Average number of rooms is about 6\n",
    "\n",
    "Avarage low stat is about 12\n",
    "\n",
    "Average pupil teacher ratio is about 19\n",
    "\n",
    "From these figures i expect client 1 house price is be little below average (below 438,900) as it have 1 less room than average, and slightly higher 'low poverty rate'\n",
    "\n",
    "Compare this to the optimized model prediction, client 1 house price (391,183) is slightly lower than the Mean or Median House Price, so the prediction fitted this analysis point.\n",
    "\n",
    "\n",
    "\n",
    "Anaylsis Point 3 - Compare to Statistics\n",
    "\n",
    "In the optimized model, all 3 predictions are within the 'limits' of the Minimum and Maximum house prices, and 'within scope' to the standard deviation. \n",
    "\n",
    "\n",
    "Summary\n",
    "\n",
    "The predicted selling prices of all 3 clients seem reasonable.\n",
    "\n",
    "**"
   ]
  },
  {
   "cell_type": "markdown",
   "metadata": {
    "deletable": true,
    "editable": true
   },
   "source": [
    "### Sensitivity\n",
    "An optimal model is not necessarily a robust model. Sometimes, a model is either too complex or too simple to sufficiently generalize to new data. Sometimes, a model could use a learning algorithm that is not appropriate for the structure of the data given. Other times, the data itself could be too noisy or contain too few samples to allow a model to adequately capture the target variable — i.e., the model is underfitted. Run the code cell below to run the `fit_model` function ten times with different training and testing sets to see how the prediction for a specific client changes with the data it's trained on."
   ]
  },
  {
   "cell_type": "code",
   "execution_count": 19,
   "metadata": {
    "collapsed": false,
    "deletable": true,
    "editable": true
   },
   "outputs": [
    {
     "name": "stdout",
     "output_type": "stream",
     "text": [
      "Trial 1: $391,183.33\n",
      "Trial 2: $419,700.00\n",
      "Trial 3: $415,800.00\n",
      "Trial 4: $420,622.22\n",
      "Trial 5: $418,377.27\n",
      "Trial 6: $411,931.58\n",
      "Trial 7: $399,663.16\n",
      "Trial 8: $407,232.00\n",
      "Trial 9: $351,577.61\n",
      "Trial 10: $413,700.00\n",
      "\n",
      "Range in prices: $69,044.61\n"
     ]
    }
   ],
   "source": [
    "vs.PredictTrials(features, prices, fit_model, client_data)"
   ]
  },
  {
   "cell_type": "markdown",
   "metadata": {
    "deletable": true,
    "editable": true
   },
   "source": [
    "### Question 11 - Applicability\n",
    "*In a few sentences, discuss whether the constructed model should or should not be used in a real-world setting.*  \n",
    "**Hint:** Some questions to answering:\n",
    "- *How relevant today is data that was collected from 1978?*\n",
    "- *Are the features present in the data sufficient to describe a home?*\n",
    "- *Is the model robust enough to make consistent predictions?*\n",
    "- *Would data collected in an urban city like Boston be applicable in a rural city?*"
   ]
  },
  {
   "cell_type": "markdown",
   "metadata": {
    "deletable": true,
    "editable": true
   },
   "source": [
    "**\n",
    "Answer: \n",
    "\n",
    "The constructed model should not be used in a real world setting because:\n",
    "\n",
    "The market condition, city population and major features which affects the house price today is expected to be different to those from 1978. But this can be improve if a more recent dataset, maybe from last 5 years, is fed to the model.\n",
    "\n",
    "There were only 3 features available in the dataset, the other important features the model data could have are: Mortgage Interest Rate, Real Estate Supply and Demand, Distance to closest Railway Station, and Household Income etc.\n",
    "\n",
    "The constructed model seems to perform well on predictions, the 10 Trial values are within sensible range and consistent. But I doubt the model is good enough to be use today simply because the old data been fed into it. The inflation adjustment will not be enough.\n",
    "\n",
    "The house prices vary massively on different location, the same property from a heavy populated city could double or more in price than property from a less populated city.\n",
    "The optimal model here can only be used in the same city, or in a city with the similar characteristics / statistics.\n",
    "\n",
    "**"
   ]
  },
  {
   "cell_type": "markdown",
   "metadata": {
    "deletable": true,
    "editable": true
   },
   "source": [
    "> **Note**: Once you have completed all of the code implementations and successfully answered each question above, you may finalize your work by exporting the iPython Notebook as an HTML document. You can do this by using the menu above and navigating to  \n",
    "**File -> Download as -> HTML (.html)**. Include the finished document along with this notebook as your submission."
   ]
  }
 ],
 "metadata": {
  "anaconda-cloud": {},
  "kernelspec": {
   "display_name": "Python 2",
   "language": "python",
   "name": "python2"
  },
  "language_info": {
   "codemirror_mode": {
    "name": "ipython",
    "version": 2
   },
   "file_extension": ".py",
   "mimetype": "text/x-python",
   "name": "python",
   "nbconvert_exporter": "python",
   "pygments_lexer": "ipython2",
   "version": "2.7.13"
  }
 },
 "nbformat": 4,
 "nbformat_minor": 0
}
